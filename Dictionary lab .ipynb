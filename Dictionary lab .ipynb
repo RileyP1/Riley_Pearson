{
 "cells": [
  {
   "cell_type": "code",
   "execution_count": 5,
   "metadata": {},
   "outputs": [],
   "source": [
    "#Q1 Create a dictionary for all participants in the JDA program.\n",
    "#Keys should be the first letter in their names, Values should be their names.\n",
    "#[Hint] dic={\"l\":(Leul),\"J\":(Jerry,Jainam)........}\n",
    "\n",
    "dic= { \"A\": ('Adam', 'Ajinkya', 'Alka'), \"B\": ('Bashir'), \"C\": ('Chloe'), \"D\": ('Dami', 'Divya'), \"E\": ('Edward'), \"G\":('Gaurav', 'Gilmara'), \"I\":('Imara'),\"J\": ('Jainam'), \\\n",
    "            \"L\":('Leul'),\"M\": ('Mehrnaz', 'Muhammad'), \"O\":('Ola'), \"P\": ('Pray'), \"R\": ('Rasha', 'Riley', 'Romita'), \"S\": ('Saonli', 'Saman', 'Santhiya', 'Sowjanya', 'Suganya', 'Sunint')}"
   ]
  },
  {
   "cell_type": "code",
   "execution_count": 39,
   "metadata": {
    "scrolled": true
   },
   "outputs": [
    {
     "name": "stdout",
     "output_type": "stream",
     "text": [
      "These are the dictionary keys:\n"
     ]
    },
    {
     "data": {
      "text/plain": [
       "(None,\n",
       " dict_keys(['A', 'B', 'C', 'D', 'E', 'G', 'I', 'J', 'L', 'M', 'O', 'P', 'R', 'S']))"
      ]
     },
     "execution_count": 39,
     "metadata": {},
     "output_type": "execute_result"
    }
   ],
   "source": [
    "#Q2 What are the keys of your dictionary\n",
    "print(\"These are the dictionary keys:\"), dic.keys()"
   ]
  },
  {
   "cell_type": "code",
   "execution_count": 38,
   "metadata": {},
   "outputs": [
    {
     "name": "stdout",
     "output_type": "stream",
     "text": [
      "these are the dictionary values:\n"
     ]
    },
    {
     "data": {
      "text/plain": [
       "(None,\n",
       " dict_values([('Adam', 'Ajinkya', 'Alka'), 'Bashir', 'Chloe', ('Dami', 'Divya'), 'Edward', ('Gaurav', 'Gilmara'), 'Imara', 'Jainam', 'Leul', ('Mehrnaz', 'Muhammad'), 'Ola', 'Pray', ('Rasha', 'Riley', 'Romita'), ('Saonli', 'Saman', 'Santhiya', 'Sowjanya', 'Suganya', 'Sunint')]))"
      ]
     },
     "execution_count": 38,
     "metadata": {},
     "output_type": "execute_result"
    }
   ],
   "source": [
    "#Q3 What are the values of your dictionary\n",
    "print( \"these are the dictionary values:\"),dic.values()"
   ]
  },
  {
   "cell_type": "code",
   "execution_count": 63,
   "metadata": {},
   "outputs": [
    {
     "name": "stdout",
     "output_type": "stream",
     "text": [
      "The values in the 'J' Key is:\n",
      "Jainam\n",
      "Imara\n",
      "('Mehrnaz', 'Muhammad')\n",
      "Chloe\n",
      "('Adam', 'Ajinkya', 'Alka')\n"
     ]
    }
   ],
   "source": [
    "#Q4 Find participant's names that start with J,I,M,C,A\n",
    "print(\"The values in the 'J' Key is:\"), print(dic[\"J\"])\n",
    "print(dic[\"I\"])\n",
    "print(dic[\"M\"])\n",
    "print(dic[\"C\"])\n",
    "print(dic[\"A\"])"
   ]
  },
  {
   "cell_type": "code",
   "execution_count": 64,
   "metadata": {},
   "outputs": [
    {
     "data": {
      "text/plain": [
       "{'A': ('Adam', 'Ajinkya', 'Alka'),\n",
       " 'B': 'Bashir',\n",
       " 'C': 'Chloe',\n",
       " 'D': ('Dami', 'Divya'),\n",
       " 'E': 'Edward',\n",
       " 'G': ('Gaurav', 'Gilmara'),\n",
       " 'I': 'Imara',\n",
       " 'J': 'Jainam',\n",
       " 'L': 'Leul',\n",
       " 'M': ('Mehrnaz', 'Muhammad'),\n",
       " 'O': 'Ola',\n",
       " 'P': 'Pray',\n",
       " 'R': ('Rasha', 'Riley', 'Romita'),\n",
       " 'S': ('Saonli', 'Saman', 'Santhiya', 'Sowjanya', 'Suganya', 'Sunint'),\n",
       " 'K,PD': 'Kristina',\n",
       " 'S, Instructor': 'Sarah'}"
      ]
     },
     "execution_count": 64,
     "metadata": {},
     "output_type": "execute_result"
    }
   ],
   "source": [
    "#Q5 Add the following to your dictionary \n",
    "# Key<(K,PD), Value(Kristina)\n",
    "dic[\"K,PD\"] = (\"Kristina\")\n",
    "dic"
   ]
  },
  {
   "cell_type": "code",
   "execution_count": 69,
   "metadata": {},
   "outputs": [
    {
     "data": {
      "text/plain": [
       "16"
      ]
     },
     "execution_count": 69,
     "metadata": {},
     "output_type": "execute_result"
    }
   ],
   "source": [
    "#Q6 Find the length of your dictionary  \n",
    "len(dic)"
   ]
  },
  {
   "cell_type": "code",
   "execution_count": 93,
   "metadata": {},
   "outputs": [],
   "source": [
    "#Q7 Add the following to your dictionary \n",
    "# Key<(S,Instructor), Value(Sarah)\n",
    "\n",
    "dic[\"S, Instructor\"]= (\"Sarah\")"
   ]
  },
  {
   "cell_type": "code",
   "execution_count": 94,
   "metadata": {},
   "outputs": [
    {
     "data": {
      "text/plain": [
       "16"
      ]
     },
     "execution_count": 94,
     "metadata": {},
     "output_type": "execute_result"
    }
   ],
   "source": [
    "#Q8 Find the length of your dictionary  \n",
    "len(dic)"
   ]
  },
  {
   "cell_type": "code",
   "execution_count": 95,
   "metadata": {},
   "outputs": [],
   "source": [
    "#Q7 Delete the following keys from your dictionary \n",
    "#Key<(S,Instructor)\n",
    "#Key<J>\n",
    "del dic[\"S, Instructor\"] \n",
    "del dic[\"J\"]"
   ]
  },
  {
   "cell_type": "code",
   "execution_count": 96,
   "metadata": {},
   "outputs": [
    {
     "name": "stdout",
     "output_type": "stream",
     "text": [
      "this is the length of the dictionary after the deletion of 2 keys: 14\n"
     ]
    }
   ],
   "source": [
    "#Q9 Find the length of your dictionary  \n",
    "print(\"this is the length of the dictionary after the deletion of 2 keys:\",len(dic))"
   ]
  },
  {
   "cell_type": "code",
   "execution_count": 97,
   "metadata": {},
   "outputs": [],
   "source": [
    "#Q10 Create a new dictionary called synonyms_dic\n",
    "synonyms_dic = {}"
   ]
  },
  {
   "cell_type": "code",
   "execution_count": 98,
   "metadata": {},
   "outputs": [],
   "source": [
    "#Q11 Add the synonyms of the following words to your dictionary \n",
    "#Bad, Good, Awesome, Cold, Easy, Hard, Big, Small\n",
    "synonyms_dic = {\"Bad\": (\"Good\"), \"Awesome\": (\"Cold\"), \"Easy\": (\"Hard\"), \"Big\": (\"Small\")}"
   ]
  },
  {
   "cell_type": "code",
   "execution_count": 110,
   "metadata": {},
   "outputs": [
    {
     "name": "stdout",
     "output_type": "stream",
     "text": [
      "The synonyms for the words 'Awesome, Easy, Small, Old' are:\n",
      "Cold\n",
      "Hard\n",
      "Small\n"
     ]
    }
   ],
   "source": [
    "#Q12 Use your dictionary to find the synonym of the following words \n",
    "# Awesome, Easy, Small, Old\n",
    "print (\"The synonyms for the words 'Awesome, Easy, Small, Old' are:\",)\n",
    "       \n",
    "print(synonyms_dic[\"Awesome\"])\n",
    "print(synonyms_dic[\"Easy\"])\n",
    "print(synonyms_dic[\"Big\"])"
   ]
  },
  {
   "cell_type": "code",
   "execution_count": 118,
   "metadata": {},
   "outputs": [],
   "source": [
    "#Q13 Delete everything from synonyms_dic\n",
    "synonyms_dic.clear()"
   ]
  },
  {
   "cell_type": "code",
   "execution_count": 121,
   "metadata": {},
   "outputs": [
    {
     "ename": "TypeError",
     "evalue": "unhashable type: 'slice'",
     "output_type": "error",
     "traceback": [
      "\u001b[1;31m---------------------------------------------------------------------------\u001b[0m",
      "\u001b[1;31mTypeError\u001b[0m                                 Traceback (most recent call last)",
      "\u001b[1;32m<ipython-input-121-bd0e021a5a87>\u001b[0m in \u001b[0;36m<module>\u001b[1;34m\u001b[0m\n\u001b[0;32m      1\u001b[0m \u001b[1;31m#Q14 Print all values in synonyms_dic\u001b[0m\u001b[1;33m\u001b[0m\u001b[1;33m\u001b[0m\u001b[1;33m\u001b[0m\u001b[0m\n\u001b[1;32m----> 2\u001b[1;33m \u001b[0mprint\u001b[0m\u001b[1;33m(\u001b[0m\u001b[0msynonyms_dic\u001b[0m\u001b[1;33m[\u001b[0m\u001b[1;36m0\u001b[0m\u001b[1;33m:\u001b[0m\u001b[1;36m1\u001b[0m\u001b[1;33m]\u001b[0m\u001b[1;33m)\u001b[0m\u001b[1;33m\u001b[0m\u001b[1;33m\u001b[0m\u001b[0m\n\u001b[0m",
      "\u001b[1;31mTypeError\u001b[0m: unhashable type: 'slice'"
     ]
    }
   ],
   "source": [
    "#Q14 Print all values in synonyms_dic\n",
    "print(synonyms_dic[0:1])"
   ]
  },
  {
   "cell_type": "code",
   "execution_count": 122,
   "metadata": {},
   "outputs": [
    {
     "data": {
      "text/plain": [
       "{'True': 1, 'False': 0}"
      ]
     },
     "execution_count": 122,
     "metadata": {},
     "output_type": "execute_result"
    }
   ],
   "source": [
    "#Q15 Convert the below two lists into dictionary\n",
    "Keys=[\"True\",\"False\"]\n",
    "Values=[1,0]\n",
    "zip_iterator= zip(Keys, Values) \n",
    "dict2 = dict(zip_iterator)\n",
    "dict2"
   ]
  },
  {
   "cell_type": "code",
   "execution_count": 123,
   "metadata": {},
   "outputs": [
    {
     "name": "stdout",
     "output_type": "stream",
     "text": [
      "This is the sum of income dictionary: 4480\n"
     ]
    }
   ],
   "source": [
    "#Q16 Sum all the items in the following dictionary\n",
    "income={'Jan':1000,'Feb':1500,'Mar':980,'April':1000}\n",
    "print(\"This is the sum of income dictionary:\",sum(income.values()))"
   ]
  },
  {
   "cell_type": "code",
   "execution_count": 124,
   "metadata": {},
   "outputs": [],
   "source": [
    "#Q17 Create the following dictionary encryption={10:\"hungry\", 101:\"am\", 110:\"I\", 1011:\",\" ,1101:\"eat\", 1001:\"want\", 111:\"to\"}\n",
    "# What should the the decryption of the following code \"110 101 10 1011 110 1001 111 1101\"\n",
    "enc={10:\"hungry\", 101:\"am\", 110:\"I\", 1011:\",\" ,1101:\"eat\", 1001:\"want\", 111:\"to\"}"
   ]
  },
  {
   "cell_type": "code",
   "execution_count": 125,
   "metadata": {},
   "outputs": [
    {
     "name": "stdout",
     "output_type": "stream",
     "text": [
      "I am hungry , I want to eat\n"
     ]
    }
   ],
   "source": [
    "print(enc[110], enc[101], enc[10], enc[1011], enc[110], enc[1001], enc[111], enc[1101])"
   ]
  },
  {
   "cell_type": "code",
   "execution_count": null,
   "metadata": {},
   "outputs": [],
   "source": []
  }
 ],
 "metadata": {
  "kernelspec": {
   "display_name": "Python 3",
   "language": "python",
   "name": "python3"
  },
  "language_info": {
   "codemirror_mode": {
    "name": "ipython",
    "version": 3
   },
   "file_extension": ".py",
   "mimetype": "text/x-python",
   "name": "python",
   "nbconvert_exporter": "python",
   "pygments_lexer": "ipython3",
   "version": "3.8.5"
  }
 },
 "nbformat": 4,
 "nbformat_minor": 4
}
